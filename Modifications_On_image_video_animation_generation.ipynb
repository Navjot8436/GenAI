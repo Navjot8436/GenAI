{
  "nbformat": 4,
  "nbformat_minor": 0,
  "metadata": {
    "colab": {
      "provenance": [],
      "include_colab_link": true
    },
    "kernelspec": {
      "name": "python3",
      "display_name": "Python 3"
    },
    "language_info": {
      "name": "python"
    }
  },
  "cells": [
    {
      "cell_type": "markdown",
      "metadata": {
        "id": "view-in-github",
        "colab_type": "text"
      },
      "source": [
        "<a href=\"https://colab.research.google.com/github/Navjot8436/GenAI/blob/main/Modifications_On_image_video_animation_generation.ipynb\" target=\"_parent\"><img src=\"https://colab.research.google.com/assets/colab-badge.svg\" alt=\"Open In Colab\"/></a>"
      ]
    },
    {
      "cell_type": "markdown",
      "source": [
        "# **TITLE** : **REPLICATE API FOR GENERATION OF DATA**\n",
        "\n",
        "# **Brief description of the Project scope :**\n",
        "\n",
        "The purpose of this project is to use generative AI in order to produce varied and excellent GIFs and images. We will optimize for a broad variety of customer preferences, investigate creative applications, and ensure scalability. The end game is to use state-of-the-art generative AI techniques to boost content generation capabilities.\n",
        "\n",
        "\n",
        "\n",
        "\n"
      ],
      "metadata": {
        "id": "ZWRrPYjU-FnH"
      }
    },
    {
      "cell_type": "markdown",
      "source": [
        "# **Group Members :**\n",
        "\n",
        "\n",
        "* Navdeep singh\n",
        "    4356266\n",
        "* Navjot Kaur\n",
        "    4358436\n"
      ],
      "metadata": {
        "id": "8ugcCz4l9POS"
      }
    },
    {
      "cell_type": "markdown",
      "source": [
        "# **Detailed Project Description Cell**\n",
        "\n",
        "The project's end objective is an extendable API for generative AI-powered, diverse, high-quality GIF and image production. Our top goals include being able to grow, being open to new ideas, and meeting the demands of a diverse spectrum of clients. Our goal is to use cutting-edge generative AI techniques to enhance visual experiences and content production abilities.\n",
        "\n",
        "\n",
        "\n",
        "\n",
        "\n",
        "\n",
        "## **Objectives** :\n",
        "\n",
        "1. Make use of state-of-the-art generative AI methods for generating GIFs and images.\n",
        "2. Verify that our API can provide a wide variety of high-quality photos to suit different consumer preferences.\n",
        "3. Explore novel solutions to enhance our API and encourage creative content generation.\n",
        "4. Make sure there are scaling measures in place to efficiently deal with high use and rising demand.\n",
        "Fifth, make sure the output is consistent and dependable by testing and refining thoroughly.\n",
        "6. Assist with integration with existing systems and provide thorough documentation.\n",
        "7. Keep the API up-to-date with new features and upgrades according to user input and generative AI technology breakthroughs.\n",
        "\n",
        "\n",
        "\n",
        "\n",
        "## **Outcomes**\n",
        "1. Diverse Content: Our API will provide a collection of images and GIFs illustrating various styles, topics, and individual preferences.\n",
        "2. Unparalleled Quality: Our clients may anticipate aesthetically pleasing, high-resolution photographs that meet or exceed their expectations.\n",
        "Thirdly, let our imaginations go wild: our API will enable users to find state-of-the-art apps that generate unique and engaging content for a wide range of purposes.\n",
        "Our system is built to handle increasing demand with ease, ensuring continuous operation even in heavily utilized situations. This allows us to achieve scalability.\n",
        "5. The user experience will be improved overall with consistent output quality and timely help, making it smooth and reliable.\n",
        "6. We strive to provide a seamless integration with our existing systems and procedures. All the paperwork and assistance you need to make this a reality is right here.\n",
        "7. Advances in Technology: Our program aims to push the boundaries of generative AI, fostering innovative approaches to content production.\n",
        "\n",
        "\n",
        "\n",
        "\n",
        "\n",
        "\n",
        "\n"
      ],
      "metadata": {
        "id": "SJNvsyvv-jM1"
      }
    },
    {
      "cell_type": "markdown",
      "source": [
        "# **Modification/New Addition Specification**\n",
        "\n",
        "- Additionally, the device will have an easy-to-navigate interface that allows customers to instantly edit GIFs and photos that have already been made. One feature that will soon be available is adaptive style transfer, which will allow users to easily apply multiple creative styles.\n",
        "\n",
        "- We will also construct an evaluation framework to determine how well the algorithm works. You can be certain that the algorithm will always provide content that is both visually beautiful and appropriate to the context.\n",
        "\n",
        "\n",
        "\n",
        "## **Impact**\n",
        "\n",
        "User engagement and customization are both enhanced by an intuitive interface that allows you to toggle between several styles. This serves the demands of specific users while also enhancing generative AI's creative potential, turning it into a versatile tool. If you use the evaluation process, your material will be trustworthy and of good quality. This exemplifies the project's significance in developing user-centric, high-impact visual experiences.\n",
        "\n",
        "\n",
        "\n",
        "\n"
      ],
      "metadata": {
        "id": "DDwC-cRK2C_x"
      }
    },
    {
      "cell_type": "markdown",
      "source": [
        "# **Criteria-Specific Cell**\n",
        "\n",
        "## **Generative Images/GIFs/Videos with Replicate API Relevance**\n",
        "\n",
        "* To encourage originality in digital media, this project used the Replicate API to produce fresh artificial intelligence visual material such as images, GIFs, and movies.\n",
        "* Generative pictures and dynamic GIFs/videos are great tools for industries like entertainment, marketing, and social media that rely on visual material to engage their audiences.\n",
        "* Developments in AI: It emphasizes the many industries that might benefit from AI-generated content and its significance in the evolving worlds of art and technology.\n",
        "\n",
        "\n",
        "## **Innovation**\n",
        "\n",
        "* Innovative Generative Methods: Investigating fresh forms of AI-generated creativity via the use of Replicate API to create visually attractive material utilizing state-of-the-art generative algorithms and models By utilizing the Replicate API's real-time content generating features, users can craft evolving images, interactive GIFs, and AI-generated films, among other forms of dynamic content.\n",
        "* Customizable Artistic Elements: Users can personalize their image and video production experience with the help of innovative features that allow them to control and customize the generative process.\n",
        "\n",
        "\n",
        "## **Technical Skills**\n",
        "\n",
        "* Generate accurate and high-quality outcomes by integrating technical skills with AI models and algorithms enabled by the Replicate API.\n",
        "* Efficient Resource Utilization: Proficient in using the Replicate API to produce high-resolution images, GIFs, and videos while maintaining quality and performance.\n",
        "* Integration and API Use: Proficient in getting the most out of Replicate API for creating generative content and using its features in the project workflow.\n",
        "\n"
      ],
      "metadata": {
        "id": "6cfvQgVYFl6W"
      }
    },
    {
      "cell_type": "code",
      "execution_count": null,
      "metadata": {
        "colab": {
          "base_uri": "https://localhost:8080/"
        },
        "id": "CjlbJnxO2w-h",
        "outputId": "ccb840ea-e1f5-48f5-a85c-ec176cb7cc7a"
      },
      "outputs": [
        {
          "output_type": "stream",
          "name": "stdout",
          "text": [
            "Collecting replicate\n",
            "  Downloading replicate-0.25.1-py3-none-any.whl (39 kB)\n",
            "Collecting httpx<1,>=0.21.0 (from replicate)\n",
            "  Downloading httpx-0.27.0-py3-none-any.whl (75 kB)\n",
            "\u001b[2K     \u001b[90m━━━━━━━━━━━━━━━━━━━━━━━━━━━━━━━━━━━━━━━━\u001b[0m \u001b[32m75.6/75.6 kB\u001b[0m \u001b[31m3.8 MB/s\u001b[0m eta \u001b[36m0:00:00\u001b[0m\n",
            "\u001b[?25hRequirement already satisfied: packaging in /usr/local/lib/python3.10/dist-packages (from replicate) (24.0)\n",
            "Requirement already satisfied: pydantic>1.10.7 in /usr/local/lib/python3.10/dist-packages (from replicate) (2.6.4)\n",
            "Requirement already satisfied: typing-extensions>=4.5.0 in /usr/local/lib/python3.10/dist-packages (from replicate) (4.10.0)\n",
            "Requirement already satisfied: anyio in /usr/local/lib/python3.10/dist-packages (from httpx<1,>=0.21.0->replicate) (3.7.1)\n",
            "Requirement already satisfied: certifi in /usr/local/lib/python3.10/dist-packages (from httpx<1,>=0.21.0->replicate) (2024.2.2)\n",
            "Collecting httpcore==1.* (from httpx<1,>=0.21.0->replicate)\n",
            "  Downloading httpcore-1.0.5-py3-none-any.whl (77 kB)\n",
            "\u001b[2K     \u001b[90m━━━━━━━━━━━━━━━━━━━━━━━━━━━━━━━━━━━━━━━━\u001b[0m \u001b[32m77.9/77.9 kB\u001b[0m \u001b[31m5.3 MB/s\u001b[0m eta \u001b[36m0:00:00\u001b[0m\n",
            "\u001b[?25hRequirement already satisfied: idna in /usr/local/lib/python3.10/dist-packages (from httpx<1,>=0.21.0->replicate) (3.6)\n",
            "Requirement already satisfied: sniffio in /usr/local/lib/python3.10/dist-packages (from httpx<1,>=0.21.0->replicate) (1.3.1)\n",
            "Collecting h11<0.15,>=0.13 (from httpcore==1.*->httpx<1,>=0.21.0->replicate)\n",
            "  Downloading h11-0.14.0-py3-none-any.whl (58 kB)\n",
            "\u001b[2K     \u001b[90m━━━━━━━━━━━━━━━━━━━━━━━━━━━━━━━━━━━━━━━━\u001b[0m \u001b[32m58.3/58.3 kB\u001b[0m \u001b[31m5.1 MB/s\u001b[0m eta \u001b[36m0:00:00\u001b[0m\n",
            "\u001b[?25hRequirement already satisfied: annotated-types>=0.4.0 in /usr/local/lib/python3.10/dist-packages (from pydantic>1.10.7->replicate) (0.6.0)\n",
            "Requirement already satisfied: pydantic-core==2.16.3 in /usr/local/lib/python3.10/dist-packages (from pydantic>1.10.7->replicate) (2.16.3)\n",
            "Requirement already satisfied: exceptiongroup in /usr/local/lib/python3.10/dist-packages (from anyio->httpx<1,>=0.21.0->replicate) (1.2.0)\n",
            "Installing collected packages: h11, httpcore, httpx, replicate\n",
            "Successfully installed h11-0.14.0 httpcore-1.0.5 httpx-0.27.0 replicate-0.25.1\n"
          ]
        }
      ],
      "source": [
        "# @title Install Replicate\n",
        "!pip install replicate\n"
      ]
    },
    {
      "cell_type": "code",
      "source": [
        "API = \"r8_5fRDv1vuJE5M2JbWMt29PzkYCFF4kAA3sv5YF\"\n",
        "import os\n",
        "\n",
        "os.environ[\"REPLICATE_API_TOKEN\"] = API #find it here: https://replicate.com/signin?next=/account/api-tokens\n"
      ],
      "metadata": {
        "id": "zX0YyZI_3dx6"
      },
      "execution_count": null,
      "outputs": []
    },
    {
      "cell_type": "code",
      "source": [
        "# @title Generate Image\n",
        "prompt = \"Person in air\"\n",
        "import replicate\n",
        "\n",
        "output = replicate.run(\n",
        "  \"stability-ai/stable-diffusion:27b93a2413e7f36cd83da926f3656280b2931564ff050bf9575f1fdf9bcd7478\",\n",
        "  input={\"prompt\":prompt}\n",
        ")\n",
        "\n",
        "output"
      ],
      "metadata": {
        "colab": {
          "base_uri": "https://localhost:8080/"
        },
        "id": "b9jB54-K3p48",
        "outputId": "7841303f-251b-43f4-df23-14af21e4391f"
      },
      "execution_count": null,
      "outputs": [
        {
          "output_type": "execute_result",
          "data": {
            "text/plain": [
              "['https://replicate.delivery/pbxt/JEtRyY6hISbREZjmeaMupvDZhZmUV8TgjB1tXhNkmpM2P6SJA/out-0.png']"
            ]
          },
          "metadata": {},
          "execution_count": 3
        }
      ]
    },
    {
      "cell_type": "code",
      "source": [
        "\n",
        "from IPython.display import Image\n",
        "output_image = output\n",
        "Image(url=output_image[0])"
      ],
      "metadata": {
        "colab": {
          "base_uri": "https://localhost:8080/",
          "height": 533
        },
        "id": "7JWCVDHf3sYu",
        "outputId": "678e8a42-bbf9-4558-901a-303a165f5723"
      },
      "execution_count": null,
      "outputs": [
        {
          "output_type": "execute_result",
          "data": {
            "text/html": [
              "<img src=\"https://replicate.delivery/pbxt/JEtRyY6hISbREZjmeaMupvDZhZmUV8TgjB1tXhNkmpM2P6SJA/out-0.png\"/>"
            ],
            "text/plain": [
              "<IPython.core.display.Image object>"
            ]
          },
          "metadata": {},
          "execution_count": 4
        }
      ]
    },
    {
      "cell_type": "code",
      "source": [
        "# @title Video/gif/animation/Generation\n",
        "import replicate\n",
        "\n",
        "output = replicate.run(\n",
        "    \"andreasjansson/stable-diffusion-animation:ca1f5e306e5721e19c473e0d094e6603f0456fe759c10715fcd6c1b79242d4a5\",\n",
        "    input={\n",
        "        \"prompt_start\": \"Person in air flips\",\n",
        "        \"prompt_end\": \"Person lands on ground\",\n",
        "        \"output_format\": \"gif\",\n",
        "        \"gif_ping_pong\": True\n",
        "    }\n",
        ")\n",
        "\n",
        "output\n"
      ],
      "metadata": {
        "colab": {
          "base_uri": "https://localhost:8080/"
        },
        "id": "6Owfxz0V3uov",
        "outputId": "9d068f39-8f98-4f19-f94a-f67e630fb661"
      },
      "execution_count": null,
      "outputs": [
        {
          "output_type": "execute_result",
          "data": {
            "text/plain": [
              "<generator object Prediction.output_iterator at 0x7ad6e5387060>"
            ]
          },
          "metadata": {},
          "execution_count": 5
        }
      ]
    },
    {
      "cell_type": "code",
      "source": [
        "# @title generate video\n",
        "for item in output:\n",
        "     #https://replicate.com/andreasjansson/stable-diffusion-animation/versions/ca1f5e306e5721e19c473e0d094e6603f0456fe759c10715fcd6c1b79242d4a5/api#output-schema\n",
        "    print(item)"
      ],
      "metadata": {
        "colab": {
          "base_uri": "https://localhost:8080/"
        },
        "id": "1bkyp74E3wcl",
        "outputId": "04827a73-7386-4426-f8a1-22ec21307a3a"
      },
      "execution_count": null,
      "outputs": [
        {
          "output_type": "stream",
          "name": "stdout",
          "text": [
            "https://replicate.delivery/pbxt/Zxqn35tgcorXLBJfpXilNTLaXZX1rJfiKyDLoKDbVLCak0lSA/video.gif\n"
          ]
        }
      ]
    },
    {
      "cell_type": "code",
      "source": [
        "\n",
        "# @title get the video on colab\n",
        "gif_url= item[0:len(item)]"
      ],
      "metadata": {
        "id": "exOI3-Rd3yn8"
      },
      "execution_count": null,
      "outputs": []
    },
    {
      "cell_type": "code",
      "source": [
        "# @title Show the video\n",
        "import requests\n",
        "from IPython.display import display, Image\n",
        "from PIL import Image as PILImage\n",
        "from io import BytesIO\n",
        "response = requests.get(gif_url)\n",
        "if response.status_code == 200:\n",
        "    # To Ddisplay the GIF in the notebook\n",
        "    display(Image(url=gif_url))\n",
        "\n",
        "    # To save the GIF in the Colab environment\n",
        "    with open(\"gif_output.gif\", \"wb\") as f:\n",
        "        f.write(response.content)\n",
        "\n",
        "    # TO show a saved GIF using PIL\n",
        "    saved_gif = PILImage.open(\"gif_output.gif\")\n",
        "    saved_gif.show()\n",
        "else:\n",
        "    print(\"Failed to fetch GIF\")\n"
      ],
      "metadata": {
        "colab": {
          "base_uri": "https://localhost:8080/",
          "height": 533
        },
        "id": "whx-a5Ne319x",
        "outputId": "fcc0d558-b102-413e-8495-152aee74f6e4"
      },
      "execution_count": null,
      "outputs": [
        {
          "output_type": "display_data",
          "data": {
            "text/html": [
              "<img src=\"https://replicate.delivery/pbxt/Zxqn35tgcorXLBJfpXilNTLaXZX1rJfiKyDLoKDbVLCak0lSA/video.gif\"/>"
            ],
            "text/plain": [
              "<IPython.core.display.Image object>"
            ]
          },
          "metadata": {}
        }
      ]
    },
    {
      "cell_type": "markdown",
      "source": [
        "# **REFERENCES**\n",
        "\n",
        "* Turna GitHub - turna1/GenAI: Here, we focus on educating and enlightening the community about various Generative AI models through hands-on coding tutorials and informative articles. https://github.com/turna1/GenAI\n",
        "\n",
        "* Replicate Tokens. https://replicate.com/account/api-tokens\n",
        "\n",
        "* Google Colab . https://colab.google/"
      ],
      "metadata": {
        "id": "gdi6nuQbG9U6"
      }
    },
    {
      "cell_type": "markdown",
      "source": [
        "\n",
        "# **Thank You**\n",
        "\n"
      ],
      "metadata": {
        "id": "HyYFTY6SLLok"
      }
    }
  ]
}